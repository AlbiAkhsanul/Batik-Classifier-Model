{
 "cells": [
  {
   "cell_type": "markdown",
   "metadata": {},
   "source": [
    "## Import Libraries"
   ]
  },
  {
   "cell_type": "code",
   "execution_count": 1,
   "metadata": {},
   "outputs": [],
   "source": [
    "import os\n",
    "import cv2\n",
    "import numpy as np\n",
    "import torch\n",
    "from torchvision import models\n",
    "import torch.nn as nn\n",
    "from torch.utils.data import DataLoader, TensorDataset\n",
    "from sklearn.model_selection import train_test_split\n",
    "from PIL import Image   "
   ]
  },
  {
   "cell_type": "markdown",
   "metadata": {},
   "source": [
    "## Import Env File"
   ]
  },
  {
   "cell_type": "code",
   "execution_count": 2,
   "metadata": {},
   "outputs": [],
   "source": [
    "from dotenv import load_dotenv  \n",
    "\n",
    "load_dotenv()\n",
    "datasets_path = os.getenv('AUGMENTED_PATH_JOGJA_PEKALONGAN')\n",
    "models_path = os.getenv('MODELS_PATH')"
   ]
  },
  {
   "cell_type": "code",
   "execution_count": 3,
   "metadata": {},
   "outputs": [
    {
     "data": {
      "text/plain": [
       "['jogja', 'pekalongan']"
      ]
     },
     "execution_count": 3,
     "metadata": {},
     "output_type": "execute_result"
    }
   ],
   "source": [
    "os.listdir(datasets_path)"
   ]
  },
  {
   "cell_type": "markdown",
   "metadata": {},
   "source": [
    "## Device Configuration"
   ]
  },
  {
   "cell_type": "code",
   "execution_count": 4,
   "metadata": {},
   "outputs": [
    {
     "name": "stdout",
     "output_type": "stream",
     "text": [
      "cuda\n"
     ]
    }
   ],
   "source": [
    "device = torch.device('cuda' if torch.cuda.is_available() else 'cpu')\n",
    "print(device)"
   ]
  },
  {
   "cell_type": "markdown",
   "metadata": {},
   "source": [
    "## Hyperparameters"
   ]
  },
  {
   "cell_type": "code",
   "execution_count": 5,
   "metadata": {},
   "outputs": [],
   "source": [
    "num_classes = 2  \n",
    "batch_size = 16\n",
    "test_split_ratio = 0.2\n",
    "val_split_ratio = 0.2"
   ]
  },
  {
   "cell_type": "markdown",
   "metadata": {},
   "source": [
    "## Data Preprocessing"
   ]
  },
  {
   "cell_type": "code",
   "execution_count": 6,
   "metadata": {},
   "outputs": [],
   "source": [
    "from torchvision import transforms\n",
    "\n",
    "transform = transforms.Compose([\n",
    "    transforms.ToTensor(),\n",
    "    transforms.Normalize(mean=[0.485, 0.456, 0.406],\n",
    "                         std=[0.229, 0.224, 0.225])\n",
    "])\n"
   ]
  },
  {
   "cell_type": "code",
   "execution_count": 7,
   "metadata": {},
   "outputs": [],
   "source": [
    "all_images = []\n",
    "all_labels = []\n",
    "\n",
    "for class_idx, class_name in enumerate(os.listdir(datasets_path)):\n",
    "    class_folder = os.path.join(datasets_path, class_name)\n",
    "    if not os.path.isdir(class_folder):\n",
    "        continue\n",
    "\n",
    "    for img_name in os.listdir(class_folder):\n",
    "        img_path = os.path.join(class_folder, img_name)\n",
    "        image = cv2.imread(img_path)\n",
    "        if image is None:\n",
    "            continue\n",
    "\n",
    "        image = cv2.cvtColor(image, cv2.COLOR_BGR2RGB)\n",
    "\n",
    "        # Original image\n",
    "        pil_img = Image.fromarray(image)\n",
    "        tensor = transform(pil_img)\n",
    "        all_images.append(tensor)\n",
    "        all_labels.append(class_idx)\n"
   ]
  },
  {
   "cell_type": "markdown",
   "metadata": {},
   "source": [
    "## Data Loaders"
   ]
  },
  {
   "cell_type": "code",
   "execution_count": 8,
   "metadata": {},
   "outputs": [],
   "source": [
    "from sklearn.model_selection import train_test_split\n",
    "from torch.utils.data import Subset, DataLoader\n",
    "\n",
    "# Convert to tensors\n",
    "X = torch.stack(all_images)\n",
    "y = torch.tensor(all_labels)\n",
    "\n",
    "# Step 1: Split awal jadi train_val dan test\n",
    "X_train_val, X_test, y_train_val, y_test = train_test_split(\n",
    "    X, y, test_size=test_split_ratio, stratify=y, random_state=42\n",
    ")\n",
    "\n",
    "# Step 2: Split train_val jadi train dan validation\n",
    "X_train, X_val, y_train, y_val = train_test_split(\n",
    "    X_train_val, y_train_val, test_size=val_split_ratio, stratify=y_train_val, random_state=42\n",
    ")\n",
    "\n",
    "# Step 3: Buat DataLoader\n",
    "train_loader = DataLoader(TensorDataset(X_train, y_train), batch_size=batch_size, shuffle=True)\n",
    "val_loader = DataLoader(TensorDataset(X_val, y_val), batch_size=batch_size, shuffle=False)\n",
    "test_loader = DataLoader(TensorDataset(X_test, y_test), batch_size=batch_size, shuffle=False)"
   ]
  },
  {
   "cell_type": "code",
   "execution_count": 9,
   "metadata": {},
   "outputs": [
    {
     "name": "stdout",
     "output_type": "stream",
     "text": [
      "Total samples: 960\n",
      "Train size: 614, Test size: 192, Val size: 154\n"
     ]
    }
   ],
   "source": [
    "print(f\"Total samples: {len(all_images)}\")\n",
    "print(f\"Train size: {len(train_loader.dataset)}, Test size: {len(test_loader.dataset)}, Val size: {len(val_loader.dataset)}\")"
   ]
  },
  {
   "cell_type": "code",
   "execution_count": 10,
   "metadata": {},
   "outputs": [
    {
     "name": "stdout",
     "output_type": "stream",
     "text": [
      "Jumlah kelas unik di y: 2\n",
      "Distribusi label: Counter({0: 480, 1: 480})\n",
      "Bentuk tensor X (jumlah gambar, channel, tinggi, lebar): torch.Size([960, 3, 224, 224])\n"
     ]
    }
   ],
   "source": [
    "from collections import Counter\n",
    "print(f\"Jumlah kelas unik di y: {len(torch.unique(y))}\")\n",
    "print(\"Distribusi label:\", Counter(y.tolist()))\n",
    "print(f\"Bentuk tensor X (jumlah gambar, channel, tinggi, lebar): {X.shape}\")"
   ]
  },
  {
   "cell_type": "markdown",
   "metadata": {},
   "source": [
    "## load Pre-Trained Model"
   ]
  },
  {
   "cell_type": "code",
   "execution_count": 16,
   "metadata": {},
   "outputs": [],
   "source": [
    "from torchvision.models import efficientnet_b0, EfficientNet_B0_Weights\n",
    "\n",
    "class EfficientNetCustom(nn.Module):\n",
    "    def __init__(self, num_classes):\n",
    "        super(EfficientNetCustom, self).__init__()\n",
    "\n",
    "        # Definisikan weights sebelum digunakan\n",
    "        weights = EfficientNet_B0_Weights.DEFAULT\n",
    "        self.model = efficientnet_b0(weights=weights)\n",
    "\n",
    "        # Ambil fitur backbone dan avgpool dari model\n",
    "        self.features = self.model.features\n",
    "        self.avgpool = self.model.avgpool\n",
    "        self.dropout = nn.Dropout(0.3)\n",
    "\n",
    "        # Ambil jumlah fitur input classifier dari model asli\n",
    "        in_features = self.model.classifier[1].in_features\n",
    "\n",
    "        # Buat classifier custom\n",
    "        self.fc1 = nn.Linear(in_features, 256)\n",
    "        self.relu = nn.ReLU()\n",
    "        self.fc2 = nn.Linear(256, num_classes)\n",
    "\n",
    "    def forward(self, x):\n",
    "        x = self.features(x)\n",
    "        x = self.avgpool(x)\n",
    "        x = torch.flatten(x, 1)\n",
    "        x = self.fc1(x)\n",
    "        x = self.relu(x)\n",
    "        x = self.dropout(x)\n",
    "        x = self.fc2(x)\n",
    "        return x\n"
   ]
  },
  {
   "cell_type": "markdown",
   "metadata": {},
   "source": [
    "## Train The Model"
   ]
  },
  {
   "cell_type": "code",
   "execution_count": 17,
   "metadata": {},
   "outputs": [
    {
     "name": "stderr",
     "output_type": "stream",
     "text": [
      "c:\\Users\\albia\\anaconda3\\envs\\pytorch_env\\lib\\site-packages\\torch\\optim\\lr_scheduler.py:62: UserWarning: The verbose parameter is deprecated. Please use get_last_lr() to access the learning rate.\n",
      "  warnings.warn(\n"
     ]
    },
    {
     "name": "stdout",
     "output_type": "stream",
     "text": [
      "Epoch [1/60], Loss: 0.2940, Val Acc: 0.9740\n",
      "Epoch [2/60], Loss: 0.1398, Val Acc: 0.9792\n",
      "Epoch [3/60], Loss: 0.1519, Val Acc: 0.9740\n",
      "Epoch [4/60], Loss: 0.1747, Val Acc: 0.9740\n",
      "Epoch [5/60], Loss: 0.0666, Val Acc: 0.9635\n",
      "Epoch [6/60], Loss: 0.0650, Val Acc: 0.9896\n",
      "Epoch [7/60], Loss: 0.0827, Val Acc: 0.9844\n",
      "Epoch [8/60], Loss: 0.0461, Val Acc: 0.9896\n",
      "Epoch [9/60], Loss: 0.0497, Val Acc: 0.9896\n",
      "Epoch [10/60], Loss: 0.0217, Val Acc: 0.9948\n",
      "Epoch [11/60], Loss: 0.0315, Val Acc: 0.9583\n",
      "Epoch [12/60], Loss: 0.0727, Val Acc: 0.9896\n",
      "Epoch [13/60], Loss: 0.1212, Val Acc: 0.9688\n",
      "Epoch [14/60], Loss: 0.0327, Val Acc: 0.9844\n",
      "Epoch [15/60], Loss: 0.0115, Val Acc: 0.9896\n",
      "Epoch [16/60], Loss: 0.0354, Val Acc: 0.9948\n",
      "Epoch [17/60], Loss: 0.0511, Val Acc: 0.9896\n",
      "Epoch [18/60], Loss: 0.0086, Val Acc: 0.9896\n",
      "Epoch [19/60], Loss: 0.0145, Val Acc: 0.9896\n",
      "Epoch [20/60], Loss: 0.0160, Val Acc: 0.9844\n",
      "Epoch [21/60], Loss: 0.0466, Val Acc: 0.9896\n",
      "Epoch [22/60], Loss: 0.0134, Val Acc: 0.9896\n",
      "Epoch [23/60], Loss: 0.0048, Val Acc: 0.9948\n",
      "Epoch [24/60], Loss: 0.0181, Val Acc: 0.9948\n",
      "Epoch [25/60], Loss: 0.0092, Val Acc: 0.9896\n",
      "Epoch [26/60], Loss: 0.0070, Val Acc: 0.9896\n",
      "Epoch [27/60], Loss: 0.0010, Val Acc: 0.9948\n",
      "Epoch [28/60], Loss: 0.0009, Val Acc: 0.9896\n",
      "Epoch [29/60], Loss: 0.0006, Val Acc: 0.9948\n",
      "Epoch [30/60], Loss: 0.0006, Val Acc: 0.9948\n",
      "Epoch [31/60], Loss: 0.0011, Val Acc: 0.9896\n",
      "Epoch [32/60], Loss: 0.0003, Val Acc: 0.9896\n",
      "Epoch [33/60], Loss: 0.0004, Val Acc: 0.9948\n",
      "Epoch [34/60], Loss: 0.0013, Val Acc: 0.9896\n",
      "Epoch [35/60], Loss: 0.0003, Val Acc: 0.9896\n",
      "Epoch [36/60], Loss: 0.0004, Val Acc: 0.9896\n",
      "Epoch [37/60], Loss: 0.0134, Val Acc: 0.9948\n",
      "⛔ Early stopping triggered at epoch 37\n"
     ]
    }
   ],
   "source": [
    "# Loss and optimizer\n",
    "model = EfficientNetCustom(num_classes=num_classes).to(device)\n",
    "criterion = nn.CrossEntropyLoss()\n",
    "learning_rate = 0.0015\n",
    "# optimizer = torch.optim.SGD(model.parameters(), lr=learning_rate, momentum=0.9)\n",
    "optimizer = torch.optim.Adam(model.parameters(), lr=learning_rate)\n",
    "scheduler = torch.optim.lr_scheduler.ReduceLROnPlateau(optimizer, mode='min', \n",
    "                                                       factor=0.5, patience=2, verbose=True)\n",
    "\n",
    "# Inisialisasi early stopping\n",
    "best_loss = float('inf')\n",
    "epochs_no_improve = 0\n",
    "early_stop_patience = 5\n",
    "num_epochs = 60\n",
    "\n",
    "def evaluate(model, data_loader):\n",
    "    model.eval()\n",
    "    correct = 0\n",
    "    total = 0\n",
    "    with torch.no_grad():\n",
    "        for images, labels in data_loader:\n",
    "            images, labels = images.to(device), labels.to(device)\n",
    "            outputs = model(images)\n",
    "            _, predicted = torch.max(outputs, 1)\n",
    "            total += labels.size(0)\n",
    "            correct += (predicted == labels).sum().item()\n",
    "    return correct / total\n",
    "\n",
    "# Training loop\n",
    "for epoch in range(num_epochs):\n",
    "    model.train()\n",
    "    running_loss = 0.0\n",
    "\n",
    "    for images, labels in train_loader:\n",
    "        images, labels = images.to(device), labels.to(device)\n",
    "\n",
    "        outputs = model(images)\n",
    "        loss = criterion(outputs, labels)\n",
    "\n",
    "        optimizer.zero_grad()\n",
    "        loss.backward()\n",
    "        optimizer.step()\n",
    "\n",
    "        running_loss += loss.item()\n",
    "\n",
    "    epoch_loss = running_loss / len(train_loader)\n",
    "    val_acc = evaluate(model, test_loader)\n",
    "    print(f'Epoch [{epoch+1}/{num_epochs}], Loss: {epoch_loss:.4f}, Val Acc: {val_acc:.4f}')\n",
    "\n",
    "    scheduler.step(epoch_loss)\n",
    "\n",
    "    if epoch_loss < best_loss - 1e-4:\n",
    "        best_loss = epoch_loss\n",
    "        epochs_no_improve = 0\n",
    "        torch.save(model, 'temp/best_model_cnn.pth')\n",
    "    else:\n",
    "        epochs_no_improve += 1\n",
    "\n",
    "    if epochs_no_improve >= early_stop_patience:\n",
    "        print(f\"⛔ Early stopping triggered at epoch {epoch+1}\")\n",
    "        break\n"
   ]
  },
  {
   "cell_type": "markdown",
   "metadata": {},
   "source": [
    "## Evaluation"
   ]
  },
  {
   "cell_type": "code",
   "execution_count": 18,
   "metadata": {},
   "outputs": [
    {
     "name": "stdout",
     "output_type": "stream",
     "text": [
      "              precision    recall  f1-score   support\n",
      "\n",
      "           0     0.9897    1.0000    0.9948        96\n",
      "           1     1.0000    0.9896    0.9948        96\n",
      "\n",
      "    accuracy                         0.9948       192\n",
      "   macro avg     0.9948    0.9948    0.9948       192\n",
      "weighted avg     0.9948    0.9948    0.9948       192\n",
      "\n"
     ]
    }
   ],
   "source": [
    "from sklearn.metrics import classification_report, confusion_matrix\n",
    "\n",
    "model.eval()\n",
    "all_preds = []\n",
    "all_labels = []\n",
    "\n",
    "with torch.no_grad():\n",
    "    for images, labels in test_loader:\n",
    "        images, labels = images.to(device), labels.to(device)\n",
    "        outputs = model(images)\n",
    "        _, predicted = torch.max(outputs.data, 1)\n",
    "\n",
    "        all_preds.extend(predicted.cpu().numpy())\n",
    "        all_labels.extend(labels.cpu().numpy())\n",
    "\n",
    "# Evaluasi klasifikasi\n",
    "print(classification_report(all_labels, all_preds, digits=4))"
   ]
  },
  {
   "cell_type": "code",
   "execution_count": 19,
   "metadata": {},
   "outputs": [
    {
     "data": {
      "image/png": "[encoded data removed]",
      "text/plain": [
       "<Figure size 640x480 with 2 Axes>"
      ]
     },
     "metadata": {},
     "output_type": "display_data"
    }
   ],
   "source": [
    "import seaborn as sns\n",
    "import matplotlib.pyplot as plt\n",
    "\n",
    "cm = confusion_matrix(all_labels, all_preds)\n",
    "sns.heatmap(cm, annot=True, fmt='d', cmap='Blues')\n",
    "plt.xlabel('Predicted')\n",
    "plt.ylabel('True')\n",
    "plt.title('Confusion Matrix')\n",
    "plt.show()\n"
   ]
  },
  {
   "cell_type": "markdown",
   "metadata": {},
   "source": [
    "## Save The Model"
   ]
  },
  {
   "cell_type": "code",
   "execution_count": 21,
   "metadata": {},
   "outputs": [],
   "source": [
    "torch.save(model.state_dict(), models_path+'/CNN2.pth')"
   ]
  }
 ],
 "metadata": {
  "kernelspec": {
   "display_name": "pytorch_env",
   "language": "python",
   "name": "python3"
  },
  "language_info": {
   "codemirror_mode": {
    "name": "ipython",
    "version": 3
   },
   "file_extension": ".py",
   "mimetype": "text/x-python",
   "name": "python",
   "nbconvert_exporter": "python",
   "pygments_lexer": "ipython3",
   "version": "3.10.16"
  }
 },
 "nbformat": 4,
 "nbformat_minor": 2
}
