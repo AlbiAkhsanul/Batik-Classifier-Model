{
 "cells": [
  {
   "cell_type": "code",
   "execution_count": 1,
   "id": "3d9f2fe3",
   "metadata": {},
   "outputs": [
    {
     "name": "stderr",
     "output_type": "stream",
     "text": [
      "c:\\Users\\albia\\anaconda3\\envs\\pytorch_env\\lib\\site-packages\\albumentations\\__init__.py:28: UserWarning: A new version of Albumentations is available: '2.0.7' (you have '2.0.5'). Upgrade using: pip install -U albumentations. To disable automatic update checks, set the environment variable NO_ALBUMENTATIONS_UPDATE to 1.\n",
      "  check_for_updates()\n"
     ]
    }
   ],
   "source": [
    "import os\n",
    "import cv2\n",
    "import numpy as np\n",
    "from albumentations import Compose, HorizontalFlip, RandomBrightnessContrast, Rotate, Affine"
   ]
  },
  {
   "cell_type": "code",
   "execution_count": 2,
   "id": "77211259",
   "metadata": {},
   "outputs": [],
   "source": [
    "from dotenv import load_dotenv  \n",
    "\n",
    "load_dotenv()\n",
    "datasets_path = os.getenv('DATASET_PATH_BALI_JOGJA')\n",
    "augmented_path = os.getenv('AUGMENTED_PATH_BALI_JOGJA')"
   ]
  },
  {
   "cell_type": "code",
   "execution_count": 3,
   "id": "bcf7864a",
   "metadata": {},
   "outputs": [
    {
     "data": {
      "text/plain": [
       "['bali', 'jogja']"
      ]
     },
     "execution_count": 3,
     "metadata": {},
     "output_type": "execute_result"
    }
   ],
   "source": [
    "os.listdir(datasets_path)"
   ]
  },
  {
   "cell_type": "code",
   "execution_count": 4,
   "id": "51e7e0ed",
   "metadata": {},
   "outputs": [],
   "source": [
    "image_size = (224, 224)\n",
    "num_augmentations_per_image = 2"
   ]
  },
  {
   "cell_type": "code",
   "execution_count": 5,
   "id": "36f15c29",
   "metadata": {},
   "outputs": [],
   "source": [
    "augment = Compose([\n",
    "    HorizontalFlip(p=0.8),\n",
    "    RandomBrightnessContrast(p=0.6),\n",
    "    Rotate(limit=15, p=0.7),\n",
    "    Affine(scale=(0.95, 1.05), translate_percent=(0.05, 0.05), rotate=15, p=0.6)\n",
    "])"
   ]
  },
  {
   "cell_type": "code",
   "execution_count": 6,
   "id": "7bd04aaf",
   "metadata": {},
   "outputs": [],
   "source": [
    "os.makedirs(augmented_path, exist_ok=True)"
   ]
  },
  {
   "cell_type": "code",
   "execution_count": 7,
   "id": "abd95e25",
   "metadata": {},
   "outputs": [],
   "source": [
    "for class_name in os.listdir(datasets_path):\n",
    "    class_folder = os.path.join(datasets_path, class_name)\n",
    "    if not os.path.isdir(class_folder):\n",
    "        continue\n",
    "\n",
    "    save_class_folder = os.path.join(augmented_path, class_name)\n",
    "    os.makedirs(save_class_folder, exist_ok=True)\n",
    "\n",
    "    for img_index, img_name in enumerate(os.listdir(class_folder)):\n",
    "        img_path = os.path.join(class_folder, img_name)\n",
    "        image = cv2.imread(img_path)\n",
    "        if image is None:\n",
    "            continue\n",
    "\n",
    "        image = cv2.cvtColor(image, cv2.COLOR_BGR2RGB)\n",
    "        image = cv2.resize(image, image_size)\n",
    "\n",
    "        # Simpan gambar asli sebagai augmentasi ke-0\n",
    "        filename = f\"{class_name}_{img_index}_aug0.jpg\"\n",
    "        cv2.imwrite(os.path.join(save_class_folder, filename), cv2.cvtColor(image, cv2.COLOR_RGB2BGR))\n",
    "\n",
    "        # Simpan augmentasi lainnya\n",
    "        for i in range(1, num_augmentations_per_image + 1):\n",
    "            augmented = augment(image=image)\n",
    "            aug_image = augmented['image']\n",
    "\n",
    "            filename = f\"{class_name}_{img_index}_aug{i}.jpg\"\n",
    "            cv2.imwrite(os.path.join(save_class_folder, filename), cv2.cvtColor(aug_image, cv2.COLOR_RGB2BGR))"
   ]
  },
  {
   "cell_type": "code",
   "execution_count": 8,
   "id": "dba83493",
   "metadata": {},
   "outputs": [
    {
     "data": {
      "text/plain": [
       "['bali', 'jogja']"
      ]
     },
     "execution_count": 8,
     "metadata": {},
     "output_type": "execute_result"
    }
   ],
   "source": [
    "os.listdir(augmented_path)"
   ]
  }
 ],
 "metadata": {
  "kernelspec": {
   "display_name": "pytorch_env",
   "language": "python",
   "name": "python3"
  },
  "language_info": {
   "codemirror_mode": {
    "name": "ipython",
    "version": 3
   },
   "file_extension": ".py",
   "mimetype": "text/x-python",
   "name": "python",
   "nbconvert_exporter": "python",
   "pygments_lexer": "ipython3",
   "version": "3.10.16"
  }
 },
 "nbformat": 4,
 "nbformat_minor": 5
}
