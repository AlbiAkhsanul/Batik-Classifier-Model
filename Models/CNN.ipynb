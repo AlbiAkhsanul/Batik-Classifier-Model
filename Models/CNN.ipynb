{
 "cells": [
  {
   "cell_type": "markdown",
   "metadata": {},
   "source": [
    "## Import Libraries"
   ]
  },
  {
   "cell_type": "code",
   "execution_count": 2,
   "metadata": {},
   "outputs": [],
   "source": [
    "import os\n",
    "import torch\n",
    "import torch.nn as nn\n",
    "from torchvision import models, transforms, datasets\n",
    "from torch.utils.data import DataLoader, random_split"
   ]
  },
  {
   "cell_type": "markdown",
   "metadata": {},
   "source": [
    "## Import Env File"
   ]
  },
  {
   "cell_type": "code",
   "execution_count": 3,
   "metadata": {},
   "outputs": [],
   "source": [
    "from dotenv import load_dotenv  \n",
    "\n",
    "load_dotenv()\n",
    "datasets_path = os.getenv('DATASET_PATH')\n",
    "models_path = os.getenv('MODELS_PATH')"
   ]
  },
  {
   "cell_type": "markdown",
   "metadata": {},
   "source": [
    "## Device Configuration"
   ]
  },
  {
   "cell_type": "code",
   "execution_count": 4,
   "metadata": {},
   "outputs": [
    {
     "name": "stdout",
     "output_type": "stream",
     "text": [
      "cuda\n"
     ]
    }
   ],
   "source": [
    "device = torch.device('cuda' if torch.cuda.is_available() else 'cpu')\n",
    "print(device)"
   ]
  },
  {
   "cell_type": "markdown",
   "metadata": {},
   "source": [
    "## Hyperparameters"
   ]
  },
  {
   "cell_type": "code",
   "execution_count": 5,
   "metadata": {},
   "outputs": [],
   "source": [
    "num_classes = 2  \n",
    "batch_size = 16\n",
    "test_split_ratio = 0.2\n",
    "image_size = (224, 224)"
   ]
  },
  {
   "cell_type": "markdown",
   "metadata": {},
   "source": [
    "## Data Preprocessing"
   ]
  },
  {
   "cell_type": "code",
   "execution_count": 6,
   "metadata": {},
   "outputs": [],
   "source": [
    "from torchvision import transforms\n",
    "\n",
    "transform = transforms.Compose([\n",
    "    transforms.Resize(image_size),\n",
    "    transforms.RandomHorizontalFlip(),\n",
    "    transforms.RandomRotation(15),\n",
    "    transforms.ToTensor(),\n",
    "    transforms.Normalize(mean=[0.485, 0.456, 0.406],\n",
    "                         std=[0.229, 0.224, 0.225])\n",
    "])\n"
   ]
  },
  {
   "cell_type": "markdown",
   "metadata": {},
   "source": [
    "## Data Loaders"
   ]
  },
  {
   "cell_type": "code",
   "execution_count": 7,
   "metadata": {},
   "outputs": [],
   "source": [
    "from sklearn.model_selection import train_test_split\n",
    "from torch.utils.data import Subset\n",
    "\n",
    "# Ambil dataset utama dengan transformasi\n",
    "dataset = datasets.ImageFolder(root=datasets_path, transform=transform)\n",
    "\n",
    "# Ambil semua label dari dataset\n",
    "targets = dataset.targets  # List of class indices (e.g., [0, 1, 0, 1, 1, ...])\n",
    "\n",
    "# Buat daftar index untuk semua data\n",
    "indices = list(range(len(dataset)))\n",
    "\n",
    "# Stratified split\n",
    "train_indices, test_indices = train_test_split(\n",
    "    indices,\n",
    "    test_size=test_split_ratio,\n",
    "    stratify=targets,\n",
    "    random_state=42\n",
    ")\n",
    "\n",
    "# Buat subset stratified berdasarkan index hasil split\n",
    "train_dataset = Subset(dataset, train_indices)\n",
    "test_dataset = Subset(dataset, test_indices)\n",
    "\n",
    "# DataLoader untuk training dan testing\n",
    "train_loader = DataLoader(dataset=train_dataset, batch_size=batch_size, shuffle=True)\n",
    "test_loader = DataLoader(dataset=test_dataset, batch_size=batch_size, shuffle=False)"
   ]
  },
  {
   "cell_type": "code",
   "execution_count": 8,
   "metadata": {},
   "outputs": [
    {
     "name": "stdout",
     "output_type": "stream",
     "text": [
      "Distribusi kelas (train): Counter({0: 80, 1: 77})\n",
      "Distribusi kelas (test): Counter({0: 20, 1: 20})\n"
     ]
    }
   ],
   "source": [
    "from collections import Counter\n",
    "\n",
    "print(\"Distribusi kelas (train):\", Counter([dataset.targets[i] for i in train_indices]))\n",
    "print(\"Distribusi kelas (test):\", Counter([dataset.targets[i] for i in test_indices]))"
   ]
  },
  {
   "cell_type": "code",
   "execution_count": 9,
   "metadata": {},
   "outputs": [
    {
     "name": "stdout",
     "output_type": "stream",
     "text": [
      "Daftar kelas dalam dataset:\n",
      "['jogja', 'pekalongan']\n"
     ]
    }
   ],
   "source": [
    "# Cetak semua label kelas di dalam dataset\n",
    "print(\"Daftar kelas dalam dataset:\")\n",
    "print(dataset.classes)"
   ]
  },
  {
   "cell_type": "markdown",
   "metadata": {},
   "source": [
    "## load Pre-Trained Model"
   ]
  },
  {
   "cell_type": "code",
   "execution_count": 10,
   "metadata": {},
   "outputs": [],
   "source": [
    "class EfficientNetCustom(nn.Module):\n",
    "    def __init__(self, num_classes):\n",
    "        super(EfficientNetCustom, self).__init__()\n",
    "\n",
    "        # Load EfficientNetB0 pretrained backbone\n",
    "        self.base_model = models.efficientnet_b0(pretrained=True)\n",
    "\n",
    "        # Ambil semua layer kecuali classifier\n",
    "        self.features = self.base_model.features\n",
    "        self.avgpool = self.base_model.avgpool\n",
    "        self.dropout = nn.Dropout(0.3)\n",
    "        self.fc1 = nn.Linear(self.base_model.classifier[1].in_features, 256)\n",
    "        self.relu = nn.ReLU()\n",
    "        self.fc2 = nn.Linear(256, num_classes)\n",
    "\n",
    "    def forward(self, x):\n",
    "        x = self.features(x)\n",
    "        x = self.avgpool(x)\n",
    "        x = torch.flatten(x, 1)      # flatten semua kecuali batch dim\n",
    "        x = self.fc1(x)\n",
    "        x = self.relu(x)\n",
    "        x = self.dropout(x)\n",
    "        x = self.fc2(x)\n",
    "        return x"
   ]
  },
  {
   "cell_type": "markdown",
   "metadata": {},
   "source": [
    "## Train The Model"
   ]
  },
  {
   "cell_type": "code",
   "execution_count": 12,
   "metadata": {},
   "outputs": [
    {
     "name": "stdout",
     "output_type": "stream",
     "text": [
      "Epoch [1/60], Loss: 0.6877\n",
      "Epoch [2/60], Loss: 0.6822\n",
      "Epoch [3/60], Loss: 0.6506\n",
      "Epoch [4/60], Loss: 0.6285\n",
      "Epoch [5/60], Loss: 0.6022\n",
      "Epoch [6/60], Loss: 0.5722\n",
      "Epoch [7/60], Loss: 0.5484\n",
      "Epoch [8/60], Loss: 0.5189\n",
      "Epoch [9/60], Loss: 0.4848\n",
      "Epoch [10/60], Loss: 0.4241\n",
      "Epoch [11/60], Loss: 0.3956\n",
      "Epoch [12/60], Loss: 0.3755\n",
      "Epoch [13/60], Loss: 0.3585\n",
      "Epoch [14/60], Loss: 0.3036\n",
      "Epoch [15/60], Loss: 0.2799\n",
      "Epoch [16/60], Loss: 0.3245\n",
      "Epoch [17/60], Loss: 0.2954\n",
      "Epoch [18/60], Loss: 0.2526\n",
      "Epoch [19/60], Loss: 0.2056\n",
      "Epoch [20/60], Loss: 0.1786\n",
      "Epoch [21/60], Loss: 0.1816\n",
      "Epoch [22/60], Loss: 0.1730\n",
      "Epoch [23/60], Loss: 0.1569\n",
      "Epoch [24/60], Loss: 0.1152\n",
      "Epoch [25/60], Loss: 0.1050\n",
      "Epoch [26/60], Loss: 0.1052\n",
      "Epoch [27/60], Loss: 0.0950\n",
      "Epoch [28/60], Loss: 0.0877\n",
      "Epoch [29/60], Loss: 0.1018\n",
      "Epoch [30/60], Loss: 0.0555\n",
      "Epoch [31/60], Loss: 0.0809\n",
      "Epoch [32/60], Loss: 0.0521\n",
      "Epoch [33/60], Loss: 0.0499\n",
      "Epoch [34/60], Loss: 0.0733\n",
      "Epoch [35/60], Loss: 0.0551\n",
      "Epoch [36/60], Loss: 0.0703\n",
      "Epoch [37/60], Loss: 0.0338\n",
      "Epoch [38/60], Loss: 0.0901\n",
      "Epoch [39/60], Loss: 0.0771\n",
      "Epoch [40/60], Loss: 0.0633\n",
      "Epoch [41/60], Loss: 0.0304\n",
      "Epoch [42/60], Loss: 0.0329\n",
      "Epoch [43/60], Loss: 0.0503\n",
      "Epoch [44/60], Loss: 0.0319\n",
      "Epoch [45/60], Loss: 0.0349\n",
      "Epoch [46/60], Loss: 0.0725\n",
      "⛔ Early stopping triggered at epoch 46\n"
     ]
    }
   ],
   "source": [
    "# Loss and optimizer\n",
    "model = EfficientNetCustom(num_classes=num_classes).to(device)\n",
    "criterion = nn.CrossEntropyLoss()\n",
    "learning_rate = 0.0015\n",
    "optimizer = torch.optim.SGD(model.parameters(), lr=learning_rate, momentum=0.9)\n",
    "# optimizer = torch.optim.Adam(model.parameters(), lr=learning_rate)\n",
    "# Inisialisasi early stopping\n",
    "best_loss = float('inf')\n",
    "epochs_no_improve = 0\n",
    "early_stop_patience = 5\n",
    "num_epochs = 60\n",
    "\n",
    "# Training loop\n",
    "for epoch in range(num_epochs):\n",
    "    model.train()\n",
    "    running_loss = 0.0\n",
    "    \n",
    "    for images, labels in train_loader:\n",
    "        images, labels = images.to(device), labels.to(device)\n",
    "\n",
    "        outputs = model(images)\n",
    "        loss = criterion(outputs, labels)\n",
    "\n",
    "        optimizer.zero_grad()\n",
    "        loss.backward()\n",
    "        optimizer.step()\n",
    "\n",
    "        running_loss += loss.item()\n",
    "    \n",
    "    # Hitung rata-rata loss untuk epoch ini\n",
    "    epoch_loss = running_loss / len(train_loader)\n",
    "    print(f'Epoch [{epoch+1}/{num_epochs}], Loss: {epoch_loss:.4f}')\n",
    "\n",
    "    # Logika Early Stopping\n",
    "    if epoch_loss < best_loss - 1e-4:\n",
    "        best_loss = epoch_loss\n",
    "        epochs_no_improve = 0\n",
    "        torch.save(model.state_dict(), 'best_model.pth')\n",
    "    else:\n",
    "        epochs_no_improve += 1\n",
    "\n",
    "    if epochs_no_improve >= early_stop_patience:\n",
    "        print(f\"⛔ Early stopping triggered at epoch {epoch+1}\")\n",
    "        break"
   ]
  },
  {
   "cell_type": "markdown",
   "metadata": {},
   "source": [
    "## Evaluation"
   ]
  },
  {
   "cell_type": "code",
   "execution_count": 13,
   "metadata": {},
   "outputs": [
    {
     "name": "stdout",
     "output_type": "stream",
     "text": [
      "              precision    recall  f1-score   support\n",
      "\n",
      "           0     0.7273    0.8000    0.7619        20\n",
      "           1     0.7778    0.7000    0.7368        20\n",
      "\n",
      "    accuracy                         0.7500        40\n",
      "   macro avg     0.7525    0.7500    0.7494        40\n",
      "weighted avg     0.7525    0.7500    0.7494        40\n",
      "\n"
     ]
    }
   ],
   "source": [
    "from sklearn.metrics import classification_report, confusion_matrix\n",
    "\n",
    "model.eval()\n",
    "all_preds = []\n",
    "all_labels = []\n",
    "\n",
    "with torch.no_grad():\n",
    "    for images, labels in test_loader:\n",
    "        images, labels = images.to(device), labels.to(device)\n",
    "        outputs = model(images)\n",
    "        _, predicted = torch.max(outputs.data, 1)\n",
    "\n",
    "        all_preds.extend(predicted.cpu().numpy())\n",
    "        all_labels.extend(labels.cpu().numpy())\n",
    "\n",
    "# Evaluasi klasifikasi\n",
    "print(classification_report(all_labels, all_preds, digits=4))"
   ]
  },
  {
   "cell_type": "code",
   "execution_count": 14,
   "metadata": {},
   "outputs": [
    {
     "data": {
      "image/png": "[encoded data removed]",
      "text/plain": [
       "<Figure size 640x480 with 2 Axes>"
      ]
     },
     "metadata": {},
     "output_type": "display_data"
    }
   ],
   "source": [
    "import seaborn as sns\n",
    "import matplotlib.pyplot as plt\n",
    "\n",
    "cm = confusion_matrix(all_labels, all_preds)\n",
    "sns.heatmap(cm, annot=True, fmt='d', cmap='Blues')\n",
    "plt.xlabel('Predicted')\n",
    "plt.ylabel('True')\n",
    "plt.title('Confusion Matrix')\n",
    "plt.show()\n"
   ]
  },
  {
   "cell_type": "markdown",
   "metadata": {},
   "source": [
    "## Save The Model"
   ]
  },
  {
   "cell_type": "code",
   "execution_count": 15,
   "metadata": {},
   "outputs": [],
   "source": [
    "torch.save(model.state_dict(), models_path+'/CNN.pth')"
   ]
  }
 ],
 "metadata": {
  "kernelspec": {
   "display_name": "pytorch_env",
   "language": "python",
   "name": "python3"
  },
  "language_info": {
   "codemirror_mode": {
    "name": "ipython",
    "version": 3
   },
   "file_extension": ".py",
   "mimetype": "text/x-python",
   "name": "python",
   "nbconvert_exporter": "python",
   "pygments_lexer": "ipython3",
   "version": "3.10.16"
  }
 },
 "nbformat": 4,
 "nbformat_minor": 2
}
