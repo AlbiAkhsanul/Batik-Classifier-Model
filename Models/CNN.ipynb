{
 "cells": [
  {
   "cell_type": "markdown",
   "metadata": {},
   "source": [
    "## Import Libraries"
   ]
  },
  {
   "cell_type": "code",
   "execution_count": 2,
   "metadata": {},
   "outputs": [
    {
     "name": "stderr",
     "output_type": "stream",
     "text": [
      "c:\\Users\\albia\\anaconda3\\envs\\pytorch_env\\lib\\site-packages\\albumentations\\__init__.py:28: UserWarning: A new version of Albumentations is available: '2.0.6' (you have '2.0.5'). Upgrade using: pip install -U albumentations. To disable automatic update checks, set the environment variable NO_ALBUMENTATIONS_UPDATE to 1.\n",
      "  check_for_updates()\n"
     ]
    }
   ],
   "source": [
    "import os\n",
    "import torch\n",
    "import torch.nn as nn\n",
    "from torchvision import models, transforms, datasets\n",
    "import albumentations as A\n",
    "from torch.utils.data import DataLoader, random_split"
   ]
  },
  {
   "cell_type": "markdown",
   "metadata": {},
   "source": [
    "## Import Env File"
   ]
  },
  {
   "cell_type": "code",
   "execution_count": 3,
   "metadata": {},
   "outputs": [],
   "source": [
    "from dotenv import load_dotenv  \n",
    "\n",
    "load_dotenv()\n",
    "datasets_path = os.getenv('DATASET_PATH')\n",
    "models_path = os.getenv('MODELS_PATH')"
   ]
  },
  {
   "cell_type": "markdown",
   "metadata": {},
   "source": [
    "## Device Configuration"
   ]
  },
  {
   "cell_type": "code",
   "execution_count": 4,
   "metadata": {},
   "outputs": [
    {
     "name": "stdout",
     "output_type": "stream",
     "text": [
      "cuda\n"
     ]
    }
   ],
   "source": [
    "device = torch.device('cuda' if torch.cuda.is_available() else 'cpu')\n",
    "print(device)"
   ]
  },
  {
   "cell_type": "markdown",
   "metadata": {},
   "source": [
    "## Hyperparameters"
   ]
  },
  {
   "cell_type": "code",
   "execution_count": 5,
   "metadata": {},
   "outputs": [],
   "source": [
    "num_classes = 2  \n",
    "batch_size = 16\n",
    "test_split_ratio = 0.2\n",
    "image_size = (224, 224)"
   ]
  },
  {
   "cell_type": "markdown",
   "metadata": {},
   "source": [
    "## Data Preprocessing"
   ]
  },
  {
   "cell_type": "code",
   "execution_count": null,
   "metadata": {},
   "outputs": [],
   "source": [
    "from torchvision import transforms\n",
    "\n",
    "transform = transforms.Compose([\n",
    "    transforms.Resize(image_size),\n",
    "    transforms.ToTensor(),\n",
    "    transforms.Normalize(mean=[0.485, 0.456, 0.406],\n",
    "                         std=[0.229, 0.224, 0.225])\n",
    "])\n"
   ]
  },
  {
   "cell_type": "code",
   "execution_count": null,
   "metadata": {},
   "outputs": [],
   "source": [
    "# Augmentasi (Albumentations)\n",
    "augment = A.Compose([\n",
    "    A.HorizontalFlip(p=0.5),\n",
    "    A.RandomBrightnessContrast(p=0.2),\n",
    "    A.Rotate(limit=15, p=0.3),\n",
    "    A.Affine(scale=(0.95, 1.05), translate_percent=(0.05, 0.05), rotate=15, p=0.4)\n",
    "])"
   ]
  },
  {
   "cell_type": "code",
   "execution_count": 8,
   "metadata": {},
   "outputs": [],
   "source": [
    "from torchvision.datasets import ImageFolder\n",
    "from PIL import Image\n",
    "import numpy as np\n",
    "\n",
    "class AugmentTransformImageFolder(ImageFolder):\n",
    "    def __init__(self, root, augment=None, transform=None):\n",
    "        super().__init__(root)\n",
    "        self.augment = augment\n",
    "        self.transform = transform\n",
    "\n",
    "    def __getitem__(self, index):\n",
    "        path, target = self.samples[index]\n",
    "        image = self.loader(path)  # PIL image\n",
    "\n",
    "        # Convert PIL to NumPy if using Albumentations\n",
    "        if self.augment:\n",
    "            image_np = np.array(image)\n",
    "            image_np = self.augment(image=image_np)['image']\n",
    "            image = Image.fromarray(image_np)\n",
    "\n",
    "        if self.transform:\n",
    "            image = self.transform(image)\n",
    "\n",
    "        return image, target\n"
   ]
  },
  {
   "cell_type": "markdown",
   "metadata": {},
   "source": [
    "## Data Loaders"
   ]
  },
  {
   "cell_type": "code",
   "execution_count": 9,
   "metadata": {},
   "outputs": [],
   "source": [
    "from sklearn.model_selection import train_test_split\n",
    "from torch.utils.data import Subset, DataLoader\n",
    "\n",
    "# Load dataset dengan class custom\n",
    "full_dataset = AugmentTransformImageFolder(root=datasets_path, augment=augment, transform=transform)\n",
    "\n",
    "# Ambil semua label dari dataset\n",
    "targets = full_dataset.targets\n",
    "indices = list(range(len(full_dataset)))\n",
    "\n",
    "# Stratified split\n",
    "train_indices, test_indices = train_test_split(\n",
    "    indices, test_size=test_split_ratio, stratify=targets, random_state=42\n",
    ")\n",
    "\n",
    "# Subset berdasarkan indeks\n",
    "train_dataset = Subset(full_dataset, train_indices)\n",
    "test_dataset = Subset(full_dataset, test_indices)\n",
    "\n",
    "# DataLoader\n",
    "train_loader = DataLoader(train_dataset, batch_size=batch_size, shuffle=True)\n",
    "test_loader = DataLoader(test_dataset, batch_size=batch_size, shuffle=False)"
   ]
  },
  {
   "cell_type": "code",
   "execution_count": 10,
   "metadata": {},
   "outputs": [
    {
     "name": "stdout",
     "output_type": "stream",
     "text": [
      "Distribusi kelas (train): Counter({0: 80, 1: 77})\n",
      "Distribusi kelas (test): Counter({0: 20, 1: 20})\n"
     ]
    }
   ],
   "source": [
    "from collections import Counter\n",
    "\n",
    "print(\"Distribusi kelas (train):\", Counter([full_dataset.targets[i] for i in train_indices]))\n",
    "print(\"Distribusi kelas (test):\", Counter([full_dataset.targets[i] for i in test_indices]))"
   ]
  },
  {
   "cell_type": "code",
   "execution_count": 11,
   "metadata": {},
   "outputs": [
    {
     "name": "stdout",
     "output_type": "stream",
     "text": [
      "Daftar kelas dalam dataset:\n",
      "['jogja', 'pekalongan']\n"
     ]
    }
   ],
   "source": [
    "# Cetak semua label kelas di dalam dataset\n",
    "print(\"Daftar kelas dalam dataset:\")\n",
    "print(full_dataset.classes)"
   ]
  },
  {
   "cell_type": "markdown",
   "metadata": {},
   "source": [
    "## load Pre-Trained Model"
   ]
  },
  {
   "cell_type": "code",
   "execution_count": 12,
   "metadata": {},
   "outputs": [],
   "source": [
    "class EfficientNetCustom(nn.Module):\n",
    "    def __init__(self, num_classes):\n",
    "        super(EfficientNetCustom, self).__init__()\n",
    "\n",
    "        # Load EfficientNetB0 pretrained backbone\n",
    "        self.base_model = models.efficientnet_b0(pretrained=True)\n",
    "\n",
    "        # Ambil semua layer kecuali classifier\n",
    "        self.features = self.base_model.features\n",
    "        self.avgpool = self.base_model.avgpool\n",
    "        self.dropout = nn.Dropout(0.3)\n",
    "        self.fc1 = nn.Linear(self.base_model.classifier[1].in_features, 256)\n",
    "        self.relu = nn.ReLU()\n",
    "        self.fc2 = nn.Linear(256, num_classes)\n",
    "\n",
    "    def forward(self, x):\n",
    "        x = self.features(x)\n",
    "        x = self.avgpool(x)\n",
    "        x = torch.flatten(x, 1)      # flatten semua kecuali batch dim\n",
    "        x = self.fc1(x)\n",
    "        x = self.relu(x)\n",
    "        x = self.dropout(x)\n",
    "        x = self.fc2(x)\n",
    "        return x"
   ]
  },
  {
   "cell_type": "markdown",
   "metadata": {},
   "source": [
    "## Train The Model"
   ]
  },
  {
   "cell_type": "code",
   "execution_count": 13,
   "metadata": {},
   "outputs": [
    {
     "name": "stderr",
     "output_type": "stream",
     "text": [
      "c:\\Users\\albia\\anaconda3\\envs\\pytorch_env\\lib\\site-packages\\torchvision\\models\\_utils.py:208: UserWarning: The parameter 'pretrained' is deprecated since 0.13 and may be removed in the future, please use 'weights' instead.\n",
      "  warnings.warn(\n",
      "c:\\Users\\albia\\anaconda3\\envs\\pytorch_env\\lib\\site-packages\\torchvision\\models\\_utils.py:223: UserWarning: Arguments other than a weight enum or `None` for 'weights' are deprecated since 0.13 and may be removed in the future. The current behavior is equivalent to passing `weights=EfficientNet_B0_Weights.IMAGENET1K_V1`. You can also use `weights=EfficientNet_B0_Weights.DEFAULT` to get the most up-to-date weights.\n",
      "  warnings.warn(msg)\n"
     ]
    },
    {
     "name": "stdout",
     "output_type": "stream",
     "text": [
      "Epoch [1/60], Loss: 0.7027\n",
      "Epoch [2/60], Loss: 0.6973\n",
      "Epoch [3/60], Loss: 0.6665\n",
      "Epoch [4/60], Loss: 0.6335\n",
      "Epoch [5/60], Loss: 0.5994\n",
      "Epoch [6/60], Loss: 0.5750\n",
      "Epoch [7/60], Loss: 0.5434\n",
      "Epoch [8/60], Loss: 0.5351\n",
      "Epoch [9/60], Loss: 0.5032\n",
      "Epoch [10/60], Loss: 0.4807\n",
      "Epoch [11/60], Loss: 0.4524\n",
      "Epoch [12/60], Loss: 0.4143\n",
      "Epoch [13/60], Loss: 0.4127\n",
      "Epoch [14/60], Loss: 0.3730\n",
      "Epoch [15/60], Loss: 0.3333\n",
      "Epoch [16/60], Loss: 0.2956\n",
      "Epoch [17/60], Loss: 0.2927\n",
      "Epoch [18/60], Loss: 0.2747\n",
      "Epoch [19/60], Loss: 0.2180\n",
      "Epoch [20/60], Loss: 0.2107\n",
      "Epoch [21/60], Loss: 0.1814\n",
      "Epoch [22/60], Loss: 0.1981\n",
      "Epoch [23/60], Loss: 0.1489\n",
      "Epoch [24/60], Loss: 0.1456\n",
      "Epoch [25/60], Loss: 0.1121\n",
      "Epoch [26/60], Loss: 0.1256\n",
      "Epoch [27/60], Loss: 0.0834\n",
      "Epoch [28/60], Loss: 0.0822\n",
      "Epoch [29/60], Loss: 0.0889\n",
      "Epoch [30/60], Loss: 0.0882\n",
      "Epoch [31/60], Loss: 0.0654\n",
      "Epoch [32/60], Loss: 0.0658\n",
      "Epoch [33/60], Loss: 0.0748\n",
      "Epoch [34/60], Loss: 0.0851\n",
      "Epoch [35/60], Loss: 0.0596\n",
      "Epoch [36/60], Loss: 0.0553\n",
      "Epoch [37/60], Loss: 0.0720\n",
      "Epoch [38/60], Loss: 0.0502\n",
      "Epoch [39/60], Loss: 0.0553\n",
      "Epoch [40/60], Loss: 0.0494\n",
      "Epoch [41/60], Loss: 0.0465\n",
      "Epoch [42/60], Loss: 0.0245\n",
      "Epoch [43/60], Loss: 0.0316\n",
      "Epoch [44/60], Loss: 0.0403\n",
      "Epoch [45/60], Loss: 0.0471\n",
      "Epoch [46/60], Loss: 0.0265\n",
      "Epoch [47/60], Loss: 0.0277\n",
      "⛔ Early stopping triggered at epoch 47\n"
     ]
    }
   ],
   "source": [
    "# Loss and optimizer\n",
    "model = EfficientNetCustom(num_classes=num_classes).to(device)\n",
    "criterion = nn.CrossEntropyLoss()\n",
    "learning_rate = 0.0015\n",
    "optimizer = torch.optim.SGD(model.parameters(), lr=learning_rate, momentum=0.9)\n",
    "# optimizer = torch.optim.Adam(model.parameters(), lr=learning_rate)\n",
    "# Inisialisasi early stopping\n",
    "best_loss = float('inf')\n",
    "epochs_no_improve = 0\n",
    "early_stop_patience = 5\n",
    "num_epochs = 60\n",
    "\n",
    "# Training loop\n",
    "for epoch in range(num_epochs):\n",
    "    model.train()\n",
    "    running_loss = 0.0\n",
    "    \n",
    "    for images, labels in train_loader:\n",
    "        images, labels = images.to(device), labels.to(device)\n",
    "\n",
    "        outputs = model(images)\n",
    "        loss = criterion(outputs, labels)\n",
    "\n",
    "        optimizer.zero_grad()\n",
    "        loss.backward()\n",
    "        optimizer.step()\n",
    "\n",
    "        running_loss += loss.item()\n",
    "    \n",
    "    # Hitung rata-rata loss untuk epoch ini\n",
    "    epoch_loss = running_loss / len(train_loader)\n",
    "    print(f'Epoch [{epoch+1}/{num_epochs}], Loss: {epoch_loss:.4f}')\n",
    "\n",
    "    # Logika Early Stopping\n",
    "    if epoch_loss < best_loss - 1e-4:\n",
    "        best_loss = epoch_loss\n",
    "        epochs_no_improve = 0\n",
    "        torch.save(model.state_dict(), 'best_model.pth')\n",
    "    else:\n",
    "        epochs_no_improve += 1\n",
    "\n",
    "    if epochs_no_improve >= early_stop_patience:\n",
    "        print(f\"⛔ Early stopping triggered at epoch {epoch+1}\")\n",
    "        break"
   ]
  },
  {
   "cell_type": "markdown",
   "metadata": {},
   "source": [
    "## Evaluation"
   ]
  },
  {
   "cell_type": "code",
   "execution_count": 14,
   "metadata": {},
   "outputs": [
    {
     "name": "stdout",
     "output_type": "stream",
     "text": [
      "              precision    recall  f1-score   support\n",
      "\n",
      "           0     0.6957    0.8000    0.7442        20\n",
      "           1     0.7647    0.6500    0.7027        20\n",
      "\n",
      "    accuracy                         0.7250        40\n",
      "   macro avg     0.7302    0.7250    0.7234        40\n",
      "weighted avg     0.7302    0.7250    0.7234        40\n",
      "\n"
     ]
    }
   ],
   "source": [
    "from sklearn.metrics import classification_report, confusion_matrix\n",
    "\n",
    "model.eval()\n",
    "all_preds = []\n",
    "all_labels = []\n",
    "\n",
    "with torch.no_grad():\n",
    "    for images, labels in test_loader:\n",
    "        images, labels = images.to(device), labels.to(device)\n",
    "        outputs = model(images)\n",
    "        _, predicted = torch.max(outputs.data, 1)\n",
    "\n",
    "        all_preds.extend(predicted.cpu().numpy())\n",
    "        all_labels.extend(labels.cpu().numpy())\n",
    "\n",
    "# Evaluasi klasifikasi\n",
    "print(classification_report(all_labels, all_preds, digits=4))"
   ]
  },
  {
   "cell_type": "code",
   "execution_count": 15,
   "metadata": {},
   "outputs": [
    {
     "data": {
      "image/png": "[encoded data removed]",
      "text/plain": [
       "<Figure size 640x480 with 2 Axes>"
      ]
     },
     "metadata": {},
     "output_type": "display_data"
    }
   ],
   "source": [
    "import seaborn as sns\n",
    "import matplotlib.pyplot as plt\n",
    "\n",
    "cm = confusion_matrix(all_labels, all_preds)\n",
    "sns.heatmap(cm, annot=True, fmt='d', cmap='Blues')\n",
    "plt.xlabel('Predicted')\n",
    "plt.ylabel('True')\n",
    "plt.title('Confusion Matrix')\n",
    "plt.show()\n"
   ]
  },
  {
   "cell_type": "markdown",
   "metadata": {},
   "source": [
    "## Save The Model"
   ]
  },
  {
   "cell_type": "code",
   "execution_count": 16,
   "metadata": {},
   "outputs": [],
   "source": [
    "torch.save(model.state_dict(), models_path+'/CNN.pth')"
   ]
  }
 ],
 "metadata": {
  "kernelspec": {
   "display_name": "pytorch_env",
   "language": "python",
   "name": "python3"
  },
  "language_info": {
   "codemirror_mode": {
    "name": "ipython",
    "version": 3
   },
   "file_extension": ".py",
   "mimetype": "text/x-python",
   "name": "python",
   "nbconvert_exporter": "python",
   "pygments_lexer": "ipython3",
   "version": "3.10.16"
  }
 },
 "nbformat": 4,
 "nbformat_minor": 2
}
